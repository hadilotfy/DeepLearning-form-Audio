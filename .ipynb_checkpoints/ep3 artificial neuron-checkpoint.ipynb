{
 "cells": [
  {
   "cell_type": "code",
   "execution_count": 5,
   "id": "e15a2751",
   "metadata": {},
   "outputs": [],
   "source": [
    "# implementing a neuron\n",
    "import math\n",
    "def sigmoid(x):\n",
    "    y = 1.0 / (1+math.exp(-x))\n",
    "    return y\n",
    "def activition(inputs,weights):\n",
    "    h = 0 ;\n",
    "    for x,w in zip(inputs,weights):\n",
    "        h += x*w\n",
    "    return sigmoid(h)"
   ]
  },
  {
   "cell_type": "code",
   "execution_count": 6,
   "id": "c541eafc",
   "metadata": {},
   "outputs": [
    {
     "name": "stdout",
     "output_type": "stream",
     "text": [
      "0.610639233949222\n"
     ]
    }
   ],
   "source": [
    "inputs = [.5,.3,.2]\n",
    "weights = [.4,.7,.2]\n",
    "output = activition(inputs,weights)\n",
    "print(output)"
   ]
  },
  {
   "cell_type": "code",
   "execution_count": null,
   "id": "58de10a1",
   "metadata": {},
   "outputs": [],
   "source": []
  }
 ],
 "metadata": {
  "kernelspec": {
   "display_name": "Python 3",
   "language": "python",
   "name": "python3"
  },
  "language_info": {
   "codemirror_mode": {
    "name": "ipython",
    "version": 3
   },
   "file_extension": ".py",
   "mimetype": "text/x-python",
   "name": "python",
   "nbconvert_exporter": "python",
   "pygments_lexer": "ipython3",
   "version": "3.8.8"
  }
 },
 "nbformat": 4,
 "nbformat_minor": 5
}
