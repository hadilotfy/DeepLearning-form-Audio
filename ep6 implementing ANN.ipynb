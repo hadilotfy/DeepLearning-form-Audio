{
 "cells": [
  {
   "cell_type": "code",
   "execution_count": 39,
   "id": "78eddaa0",
   "metadata": {},
   "outputs": [],
   "source": [
    "import numpy as np\n",
    "class MLP:\n",
    "    \n",
    "    def __init__(self,num_inputs=3,num_hidden=[3,3,5,5,6,7,78,5],num_outputs=2):\n",
    "        \n",
    "        self.num_inputs = num_inputs\n",
    "        self.num_hidden = num_hidden\n",
    "        self.num_outputs = num_outputs\n",
    "        \n",
    "        layers = [self.num_inputs]+self.num_hidden+[self.num_outputs]\n",
    "        \n",
    "        #random weights\n",
    "        self.weights = []\n",
    "        for i in range(len(layers)-1):\n",
    "            w  = np.random.rand(layers[i],layers[i+1])\n",
    "            #self.weights[i] = w \n",
    "            self.weights.append(w)\n",
    "    \n",
    "    \n",
    "    def forward_propagate(self,inputs):\n",
    "        activations = inputs\n",
    "        \n",
    "        for w in self.weights:\n",
    "            #calculate net inputs\n",
    "            net_inputs = np.dot(activations,w)\n",
    "            \n",
    "            #calculate activations\n",
    "            activations = self._sigmoid(net_inputs)\n",
    "            \n",
    "        return activations\n",
    "    \n",
    "    def _sigmoid(self,x):\n",
    "        return 1.0 / (1+np.exp(-x))\n",
    "    "
   ]
  },
  {
   "cell_type": "code",
   "execution_count": 40,
   "id": "2cd3e706",
   "metadata": {},
   "outputs": [
    {
     "name": "stdout",
     "output_type": "stream",
     "text": [
      "1\n"
     ]
    }
   ],
   "source": [
    "if __name__ == \"__main__\":\n",
    "    print(1)"
   ]
  },
  {
   "cell_type": "code",
   "execution_count": 41,
   "id": "52f2faae",
   "metadata": {},
   "outputs": [
    {
     "name": "stdout",
     "output_type": "stream",
     "text": [
      "Wall time: 0 ns\n",
      "ANN input is: [0.28465851 0.93405098 0.84843964]\n",
      "ANN output is: [0.84133017 0.75751268]\n"
     ]
    }
   ],
   "source": [
    "%time\n",
    "# create an MLP\n",
    "mlp = MLP()\n",
    "    \n",
    "# create some inputs\n",
    "inputs = np.random.rand(mlp.num_inputs)\n",
    "print('ANN input is: {}'.format(inputs))\n",
    "# perform forwarde propagation\n",
    "outputs = mlp.forward_propagate(inputs)\n",
    "\n",
    "\n",
    "# print outputs\n",
    "print('ANN output is: {}'.format(outputs))\n"
   ]
  },
  {
   "cell_type": "code",
   "execution_count": null,
   "id": "93d5d6a3",
   "metadata": {},
   "outputs": [],
   "source": []
  },
  {
   "cell_type": "code",
   "execution_count": null,
   "id": "e93ab0ef",
   "metadata": {},
   "outputs": [],
   "source": []
  }
 ],
 "metadata": {
  "kernelspec": {
   "display_name": "Python 3",
   "language": "python",
   "name": "python3"
  },
  "language_info": {
   "codemirror_mode": {
    "name": "ipython",
    "version": 3
   },
   "file_extension": ".py",
   "mimetype": "text/x-python",
   "name": "python",
   "nbconvert_exporter": "python",
   "pygments_lexer": "ipython3",
   "version": "3.8.8"
  }
 },
 "nbformat": 4,
 "nbformat_minor": 5
}
