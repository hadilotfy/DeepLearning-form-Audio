{
 "cells": [
  {
   "cell_type": "code",
   "execution_count": 11,
   "id": "e4c44164",
   "metadata": {},
   "outputs": [],
   "source": [
    "import numpy as np\n",
    "class MLP:\n",
    "    \n",
    "    def __init__(self,num_inputs=3,num_hidden=[3,5],num_outputs=2):\n",
    "        \n",
    "        self.num_inputs = num_inputs\n",
    "        self.num_hidden = num_hidden\n",
    "        self.num_outputs = num_outputs\n",
    "        \n",
    "        layers = [self.num_inputs]+self.num_hidden+[self.num_outputs]\n",
    "        \n",
    "        #random weights\n",
    "        self.weights = []\n",
    "        for i in range(len(layers)-1):\n",
    "            w  = np.random.rand(layers[i],layers[i+1])\n",
    "            #self.weights[i] = w \n",
    "            self.weights.append(w)\n",
    "    \n",
    "    \n",
    "    def forward_propagate(self,inputs):\n",
    "        activations = inputs\n",
    "        \n",
    "        for w in self.weights:\n",
    "            #calculate net inputs\n",
    "            net_inputs = np.dot(activations,w)\n",
    "            \n",
    "            #calculate activations\n",
    "            activations = self._sigmoid(net_inputs)\n",
    "            \n",
    "        return activations\n",
    "    \n",
    "    def _sigmoid(self,x):\n",
    "        return 1.0 / (1+np.exp(-x))\n",
    "    "
   ]
  },
  {
   "cell_type": "code",
   "execution_count": 12,
   "id": "bdc9249f",
   "metadata": {},
   "outputs": [
    {
     "name": "stdout",
     "output_type": "stream",
     "text": [
      "1\n"
     ]
    }
   ],
   "source": [
    "if __name__ == \"__main__\":\n",
    "    print(1)"
   ]
  },
  {
   "cell_type": "code",
   "execution_count": 28,
   "id": "8ce754d5",
   "metadata": {},
   "outputs": [
    {
     "name": "stdout",
     "output_type": "stream",
     "text": [
      "ANN input is: [0.5581418  0.33643865 0.85622744]\n",
      "ANN output is: [0.76426039 0.88115993]\n"
     ]
    }
   ],
   "source": [
    "# create an MLP\n",
    "mlp = MLP()\n",
    "    \n",
    "# create some inputs\n",
    "inputs = np.random.rand(mlp.num_inputs)\n",
    "print('ANN input is: {}'.format(inputs))\n",
    "# perform forwarde propagation\n",
    "outputs = mlp.forward_propagate(inputs)\n",
    "\n",
    "\n",
    "# print outputs\n",
    "print('ANN output is: {}'.format(outputs))\n"
   ]
  },
  {
   "cell_type": "code",
   "execution_count": null,
   "id": "17994d57",
   "metadata": {},
   "outputs": [],
   "source": []
  },
  {
   "cell_type": "code",
   "execution_count": null,
   "id": "71e02668",
   "metadata": {},
   "outputs": [],
   "source": []
  }
 ],
 "metadata": {
  "kernelspec": {
   "display_name": "Python 3",
   "language": "python",
   "name": "python3"
  },
  "language_info": {
   "codemirror_mode": {
    "name": "ipython",
    "version": 3
   },
   "file_extension": ".py",
   "mimetype": "text/x-python",
   "name": "python",
   "nbconvert_exporter": "python",
   "pygments_lexer": "ipython3",
   "version": "3.8.8"
  }
 },
 "nbformat": 4,
 "nbformat_minor": 5
}
